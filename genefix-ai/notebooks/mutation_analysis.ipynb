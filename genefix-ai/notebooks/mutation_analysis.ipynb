{
 "cells": [
  {
   "cell_type": "markdown",
   "id": "d64a5e0c",
   "metadata": {},
   "source": [
    "# Mutation Analysis Notebook\n",
    "This notebook demonstrates how to analyze genome sequences for mutations using GeneFix AI."
   ]
  },
  {
   "cell_type": "code",
   "execution_count": null,
   "id": "0f2ef9c0",
   "metadata": {},
   "outputs": [],
   "source": [
    "import torch\n",
    "from app.models.detection_model import MutationDetectionModel\n",
    "from app.data_pipeline.sequence_cleaner import SequenceCleaner\n",
    "import matplotlib.pyplot as plt\n",
    "import numpy as np"
   ]
  },
  {
   "cell_type": "markdown",
   "id": "9ffcf47b",
   "metadata": {},
   "source": [
    "## Example Genome Data\n",
    "We use synthetic DNA sequences for mutation analysis."
   ]
  },
  {
   "cell_type": "code",
   "execution_count": null,
   "id": "5908224b",
   "metadata": {},
   "outputs": [],
   "source": [
    "sequences = ['ATCGATCGATCGATCG', 'TGCATGCATGCATGCA', 'ATCGTGCATCGTGCAT']"
   ]
  },
  {
   "cell_type": "markdown",
   "id": "e5814bbd",
   "metadata": {},
   "source": [
    "## Preprocessing\n",
    "Convert DNA sequences to one-hot encoded tensors for model input."
   ]
  },
  {
   "cell_type": "code",
   "execution_count": null,
   "id": "a52c6deb",
   "metadata": {},
   "outputs": [],
   "source": [
    "cleaner = SequenceCleaner()\n",
    "processed = [cleaner.preprocess_sequence(seq) for seq in sequences]"
   ]
  },
  {
   "cell_type": "markdown",
   "id": "4d26cf6a",
   "metadata": {},
   "source": [
    "## Mutation Detection\n",
    "Run the trained model on the preprocessed sequences to predict mutations."
   ]
  },
  {
   "cell_type": "code",
   "execution_count": null,
   "id": "1cbbfff5",
   "metadata": {},
   "outputs": [],
   "source": [
    "model = MutationDetectionModel()\n",
    "predictions = []\n",
    "for seq in processed:\n",
    "    tensor = torch.tensor(seq, dtype=torch.float32).unsqueeze(0)\n",
    "    output = model(tensor)\n",
    "    pred = output.argmax(dim=1).item()\n",
    "    predictions.append(pred)\n",
    "print(\"Predictions:\", predictions)"
   ]
  },
  {
   "cell_type": "markdown",
   "id": "51a869c4",
   "metadata": {},
   "source": [
    "## Visualization\n",
    "Visualize the mutation predictions for each sequence."
   ]
  },
  {
   "cell_type": "code",
   "execution_count": null,
   "id": "b04437ca",
   "metadata": {},
   "outputs": [],
   "source": [
    "plt.figure(figsize=(6,4))\n",
    "plt.bar(range(len(sequences)), predictions, tick_label=[f'Seq {i+1}' for i in range(len(sequences))])\n",
    "plt.ylabel('Predicted Mutation (0=No, 1=Yes)')\n",
    "plt.xlabel('Sequence')\n",
    "plt.title('Mutation Predictions')\n",
    "plt.show()"
   ]
  }
 ],
 "metadata": {
  "language_info": {
   "name": "python"
  }
 },
 "nbformat": 4,
 "nbformat_minor": 5
}
