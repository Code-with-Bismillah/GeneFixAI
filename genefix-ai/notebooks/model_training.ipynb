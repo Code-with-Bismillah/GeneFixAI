{
 "cells": [
  {
   "cell_type": "markdown",
   "id": "4e55e7d5",
   "metadata": {},
   "source": [
    "# Model Training Notebook\n",
    "This notebook demonstrates how to preprocess genome sequences and train the mutation detection model in GeneFix AI."
   ]
  },
  {
   "cell_type": "code",
   "execution_count": null,
   "id": "19e12228",
   "metadata": {},
   "outputs": [
    {
     "ename": "ModuleNotFoundError",
     "evalue": "No module named 'app'",
     "output_type": "error",
     "traceback": [
      "\u001b[31m---------------------------------------------------------------------------\u001b[39m",
      "\u001b[31mModuleNotFoundError\u001b[39m                       Traceback (most recent call last)",
      "\u001b[36mCell\u001b[39m\u001b[36m \u001b[39m\u001b[32mIn[2]\u001b[39m\u001b[32m, line 4\u001b[39m\n\u001b[32m      2\u001b[39m \u001b[38;5;28;01mimport\u001b[39;00m\u001b[38;5;250m \u001b[39m\u001b[34;01mtorch\u001b[39;00m\u001b[34;01m.\u001b[39;00m\u001b[34;01mnn\u001b[39;00m\u001b[38;5;250m \u001b[39m\u001b[38;5;28;01mas\u001b[39;00m\u001b[38;5;250m \u001b[39m\u001b[34;01mnn\u001b[39;00m\n\u001b[32m      3\u001b[39m \u001b[38;5;28;01mimport\u001b[39;00m\u001b[38;5;250m \u001b[39m\u001b[34;01mtorch\u001b[39;00m\u001b[34;01m.\u001b[39;00m\u001b[34;01moptim\u001b[39;00m\u001b[38;5;250m \u001b[39m\u001b[38;5;28;01mas\u001b[39;00m\u001b[38;5;250m \u001b[39m\u001b[34;01moptim\u001b[39;00m\n\u001b[32m----> \u001b[39m\u001b[32m4\u001b[39m \u001b[38;5;28;01mfrom\u001b[39;00m\u001b[38;5;250m \u001b[39m\u001b[34;01mapp\u001b[39;00m\u001b[34;01m.\u001b[39;00m\u001b[34;01mmodels\u001b[39;00m\u001b[34;01m.\u001b[39;00m\u001b[34;01mdetection_model\u001b[39;00m\u001b[38;5;250m \u001b[39m\u001b[38;5;28;01mimport\u001b[39;00m MutationDetectionModel\n\u001b[32m      5\u001b[39m \u001b[38;5;28;01mfrom\u001b[39;00m\u001b[38;5;250m \u001b[39m\u001b[34;01mapp\u001b[39;00m\u001b[34;01m.\u001b[39;00m\u001b[34;01mdata_pipeline\u001b[39;00m\u001b[34;01m.\u001b[39;00m\u001b[34;01msequence_cleaner\u001b[39;00m\u001b[38;5;250m \u001b[39m\u001b[38;5;28;01mimport\u001b[39;00m SequenceCleaner\n\u001b[32m      6\u001b[39m \u001b[38;5;28;01mimport\u001b[39;00m\u001b[38;5;250m \u001b[39m\u001b[34;01mnumpy\u001b[39;00m\u001b[38;5;250m \u001b[39m\u001b[38;5;28;01mas\u001b[39;00m\u001b[38;5;250m \u001b[39m\u001b[34;01mnp\u001b[39;00m\n",
      "\u001b[31mModuleNotFoundError\u001b[39m: No module named 'app'"
     ]
    }
   ],
   "source": [
    "\n",
    "import torch\n",
    "import torch.nn as nn\n",
    "import torch.optim as optim\n",
    "from app.models.detection_model import MutationDetectionModel\n",
    "from app.data_pipeline.sequence_cleaner import SequenceCleaner\n",
    "import numpy as np"
   ]
  },
  {
   "cell_type": "markdown",
   "id": "2c0c0b14",
   "metadata": {},
   "source": [
    "## Example Data\n",
    "We use synthetic DNA sequences for demonstration."
   ]
  },
  {
   "cell_type": "code",
   "execution_count": null,
   "id": "9ad1b965",
   "metadata": {},
   "outputs": [],
   "source": [
    "sequences = ['ATCGATCGATCGATCG', 'TGCATGCATGCATGCA']\n",
    "labels = [0, 1]  # 0: no mutation, 1: mutation (dummy labels)"
   ]
  },
  {
   "cell_type": "markdown",
   "id": "a31dd2b4",
   "metadata": {},
   "source": [
    "## Preprocessing\n",
    "Convert DNA sequences to one-hot encoded tensors."
   ]
  },
  {
   "cell_type": "code",
   "execution_count": null,
   "id": "8c9183ec",
   "metadata": {},
   "outputs": [],
   "source": [
    "cleaner = SequenceCleaner()\n",
    "processed = [cleaner.preprocess_sequence(seq) for seq in sequences]\n",
    "for i, enc in enumerate(processed):\n",
    "    print(f\"Sequence {i+1} shape:\", enc.shape)"
   ]
  },
  {
   "cell_type": "markdown",
   "id": "85b2c8bc",
   "metadata": {},
   "source": [
    "## Model Initialization\n",
    "We use a CNN+LSTM model for mutation detection."
   ]
  },
  {
   "cell_type": "code",
   "execution_count": null,
   "id": "22920f08",
   "metadata": {},
   "outputs": [],
   "source": [
    "model = MutationDetectionModel()\n",
    "optimizer = optim.Adam(model.parameters(), lr=0.001)\n",
    "criterion = nn.CrossEntropyLoss()"
   ]
  },
  {
   "cell_type": "markdown",
   "id": "b5e18b52",
   "metadata": {},
   "source": [
    "## Training Loop\n",
    "Train the model for a few epochs on the example data."
   ]
  },
  {
   "cell_type": "code",
   "execution_count": null,
   "id": "125b4255",
   "metadata": {},
   "outputs": [],
   "source": [
    "for epoch in range(2):\n",
    "    for seq, label in zip(processed, labels):\n",
    "        tensor = torch.tensor(seq, dtype=torch.float32).unsqueeze(0)\n",
    "        output = model(tensor)\n",
    "        loss = criterion(output, torch.tensor([label]))\n",
    "        optimizer.zero_grad()\n",
    "        loss.backward()\n",
    "        optimizer.step()\n",
    "        print(f\"Epoch {epoch}, Loss: {loss.item()}\")"
   ]
  },
  {
   "cell_type": "markdown",
   "id": "dff1d250",
   "metadata": {},
   "source": [
    "## Pro Training Tips\n",
    "Enhance your model training with these best practices:"
   ]
  },
  {
   "cell_type": "markdown",
   "id": "b8a69c55",
   "metadata": {},
   "source": [
    "- Use more data: The more diverse and realistic your training data, the better your model will generalize.\n",
    "- Use validation sets: Always split your data into training and validation sets to monitor for overfitting.\n",
    "- Track metrics: Log loss, accuracy, and other relevant metrics for each epoch.\n",
    "- Use callbacks: Implement early stopping or learning rate schedulers for efficient training.\n",
    "- Save checkpoints: Regularly save your model weights so you can resume or select the best model.\n",
    "- Experiment: Try different architectures, hyperparameters, and data augmentation strategies.\n",
    "- Use GPU: If available, move your model and tensors to CUDA for faster training."
   ]
  },
  {
   "cell_type": "code",
   "execution_count": null,
   "id": "035e9ebb",
   "metadata": {},
   "outputs": [],
   "source": [
    "from sklearn.model_selection import train_test_split\n",
    "\n",
    "# Example: split data (expand for real use)\n",
    "train_seqs, val_seqs, train_labels, val_labels = train_test_split(\n",
    "    sequences, labels, test_size=0.5, random_state=42)\n",
    "\n",
    "# Preprocess\n",
    "train_proc = [cleaner.preprocess_sequence(seq) for seq in train_seqs]\n",
    "val_proc = [cleaner.preprocess_sequence(seq) for seq in val_seqs]\n"
   ]
  },
  {
   "cell_type": "code",
   "execution_count": null,
   "id": "115ec9e7",
   "metadata": {},
   "outputs": [],
   "source": [
    "import copy\n",
    "\n",
    "best_val_loss = float('inf')\n",
    "best_model = None\n",
    "train_losses, val_losses = [], []\n",
    "\n",
    "for epoch in range(5):\n",
    "    model.train()\n",
    "    epoch_train_loss = 0\n",
    "    for seq, label in zip(train_proc, train_labels):\n",
    "        tensor = torch.tensor(seq, dtype=torch.float32).unsqueeze(0)\n",
    "        output = model(tensor)\n",
    "        loss = criterion(output, torch.tensor([label]))\n",
    "        optimizer.zero_grad()\n",
    "        loss.backward()\n",
    "        optimizer.step()\n",
    "        epoch_train_loss += loss.item()\n",
    "    train_losses.append(epoch_train_loss / len(train_proc))\n",
    "\n",
    "    # Validation\n",
    "    model.eval()\n",
    "    epoch_val_loss = 0\n",
    "    with torch.no_grad():\n",
    "        for seq, label in zip(val_proc, val_labels):\n",
    "            tensor = torch.tensor(seq, dtype=torch.float32).unsqueeze(0)\n",
    "            output = model(tensor)\n",
    "            loss = criterion(output, torch.tensor([label]))\n",
    "            epoch_val_loss += loss.item()\n",
    "    val_loss = epoch_val_loss / len(val_proc)\n",
    "    val_losses.append(val_loss)\n",
    "    print(f\"Epoch {epoch}, Train Loss: {train_losses[-1]:.4f}, Val Loss: {val_loss:.4f}\")\n",
    "    if val_loss < best_val_loss:\n",
    "        best_val_loss = val_loss\n",
    "        best_model = copy.deepcopy(model.state_dict())\n"
   ]
  },
  {
   "cell_type": "code",
   "execution_count": null,
   "id": "a9347e77",
   "metadata": {},
   "outputs": [],
   "source": [
    "import matplotlib.pyplot as plt\n",
    "plt.plot(train_losses, label='Train Loss')\n",
    "plt.plot(val_losses, label='Val Loss')\n",
    "plt.xlabel('Epoch')\n",
    "plt.ylabel('Loss')\n",
    "plt.title('Training and Validation Loss')\n",
    "plt.legend()\n",
    "plt.show()"
   ]
  },
  {
   "cell_type": "code",
   "execution_count": null,
   "id": "765aadb6",
   "metadata": {},
   "outputs": [],
   "source": [
    "# Save the best model\n",
    "if best_model is not None:\n",
    "    torch.save(best_model, 'best_mutation_detection_model.pt')\n",
    "    print('Best model saved as best_mutation_detection_model.pt')"
   ]
  },
  {
   "cell_type": "markdown",
   "id": "85ed0690",
   "metadata": {},
   "source": [
    "## Advanced Training: Learning Rate Scheduling and Early Stopping\n",
    "Enhance your training with learning rate schedulers and early stopping to avoid overfitting and speed up convergence."
   ]
  },
  {
   "cell_type": "code",
   "execution_count": null,
   "id": "c57508d0",
   "metadata": {},
   "outputs": [],
   "source": [
    "from torch.optim.lr_scheduler import ReduceLROnPlateau\n",
    "\n",
    "scheduler = ReduceLROnPlateau(optimizer, mode='min', factor=0.5, patience=2, verbose=True)\n",
    "early_stop_patience = 3\n",
    "no_improve_epochs = 0\n",
    "\n",
    "for epoch in range(20):\n",
    "    model.train()\n",
    "    epoch_train_loss = 0\n",
    "    for seq, label in zip(train_proc, train_labels):\n",
    "        tensor = torch.tensor(seq, dtype=torch.float32).unsqueeze(0)\n",
    "        output = model(tensor)\n",
    "        loss = criterion(output, torch.tensor([label]))\n",
    "        optimizer.zero_grad()\n",
    "        loss.backward()\n",
    "        optimizer.step()\n",
    "        epoch_train_loss += loss.item()\n",
    "    train_losses.append(epoch_train_loss / len(train_proc))\n",
    "\n",
    "    # Validation\n",
    "    model.eval()\n",
    "    epoch_val_loss = 0\n",
    "    with torch.no_grad():\n",
    "        for seq, label in zip(val_proc, val_labels):\n",
    "            tensor = torch.tensor(seq, dtype=torch.float32).unsqueeze(0)\n",
    "            output = model(tensor)\n",
    "            loss = criterion(output, torch.tensor([label]))\n",
    "            epoch_val_loss += loss.item()\n",
    "    val_loss = epoch_val_loss / len(val_proc)\n",
    "    val_losses.append(val_loss)\n",
    "    print(f\"Epoch {epoch}, Train Loss: {train_losses[-1]:.4f}, Val Loss: {val_loss:.4f}\")\n",
    "    scheduler.step(val_loss)\n",
    "    if val_loss < best_val_loss:\n",
    "        best_val_loss = val_loss\n",
    "        best_model = copy.deepcopy(model.state_dict())\n",
    "        no_improve_epochs = 0\n",
    "    else:\n",
    "        no_improve_epochs += 1\n",
    "    if no_improve_epochs >= early_stop_patience:\n",
    "        print(f\"Early stopping at epoch {epoch}!\")\n",
    "        break\n"
   ]
  },
  {
   "cell_type": "code",
   "execution_count": null,
   "id": "a21146f0",
   "metadata": {},
   "outputs": [],
   "source": [
    "import sys\n",
    "import os\n",
    "sys.path.append(os.path.abspath(\"../..\"))\n",
    "sys.path.append(os.path.abspath(\"..\"))"
   ]
  },
  {
   "cell_type": "code",
   "execution_count": null,
   "id": "e2b5bbb9",
   "metadata": {},
   "outputs": [],
   "source": [
    "import sys\n",
    "import os\n",
    "sys.path.append(os.path.abspath(\"../..\"))\n",
    "sys.path.append(os.path.abspath(\"..\"))"
   ]
  }
 ],
 "metadata": {
  "kernelspec": {
   "display_name": "Python 3",
   "language": "python",
   "name": "python3"
  },
  "language_info": {
   "codemirror_mode": {
    "name": "ipython",
    "version": 3
   },
   "file_extension": ".py",
   "mimetype": "text/x-python",
   "name": "python",
   "nbconvert_exporter": "python",
   "pygments_lexer": "ipython3",
   "version": "3.12.1"
  }
 },
 "nbformat": 4,
 "nbformat_minor": 5
}
